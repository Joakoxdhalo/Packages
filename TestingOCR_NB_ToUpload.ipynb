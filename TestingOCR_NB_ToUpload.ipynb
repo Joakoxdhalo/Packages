{
	"cells": [
		{
			"cell_type": "code",
			"execution_count": null,
			"metadata": {
				"editable": true,
				"trusted": true
			},
			"outputs": [],
			"source": [
				"# %help"
			]
		},
		{
			"cell_type": "code",
			"execution_count": null,
			"metadata": {
				"tags": [],
				"trusted": true
			},
			"outputs": [],
			"source": [
				"# %stop_session"
			]
		},
		{
			"cell_type": "code",
			"execution_count": null,
			"metadata": {
				"tags": [],
				"trusted": true
			},
			"outputs": [],
			"source": [
				"# %additional_python_modules s3://test-csp-s3-etl-glue-asset/etl_plugin_scripts/leven-1.0.4.tar.gz"
			]
		},
		{
			"cell_type": "markdown",
			"metadata": {},
			"source": [
				"# Library declaration"
			]
		},
		{
			"cell_type": "code",
			"execution_count": null,
			"metadata": {
				"tags": [],
				"trusted": true
			},
			"outputs": [],
			"source": [
				"import os\n",
				"# from leven import levenshtein  # Levenshtein comparison Cloud\n",
				"from Levenshtein import distance #  Levenshtein comparison Local\n",
				"import boto3\n",
				"import numpy as np\n",
				"import pandas as pd\n",
				"pd.set_option('display.max_colwidth', None)\n",
				"pd.set_option('display.max_columns', None)\n",
				"# pd.set_option('display.max_rows', 1000)\n",
				"pd.reset_option('display.max_rows')\n"
			]
		},
		{
			"cell_type": "markdown",
			"metadata": {},
			"source": [
				"# Function declaration"
			]
		},
		{
			"cell_type": "code",
			"execution_count": null,
			"metadata": {
				"tags": [],
				"trusted": true
			},
			"outputs": [],
			"source": [
				"def initialize_boto():\n",
				"    \"\"\" Function to initialize boto3 \"\"\"\n",
				"\n",
				"    AWS_ACCESS_KEY_ID = os.getenv(\"AWS_ACCESS_KEY_ID\")\n",
				"    AWS_SECRET_ACCESS_KEY = os.getenv(\"AWS_SECRET_ACCESS_KEY\")\n",
				"    AWS_SESSION_TOKEN = os.getenv(\"AWS_SESSION_TOKEN\")\n",
				"\n",
				"    s3_client = boto3.client(\n",
				"        \"s3\",\n",
				"        aws_access_key_id=AWS_ACCESS_KEY_ID,\n",
				"        aws_secret_access_key=AWS_SECRET_ACCESS_KEY,\n",
				"        aws_session_token=AWS_SESSION_TOKEN,\n",
				"    )\n",
				"    return s3_client\n",
				"\n",
				"\n",
				"def get_object_from_boto(s3_client, bucket, key):\n",
				"    \"\"\" Function to get the required object from boto given the bucket and the key\"\"\"\n",
				"    \n",
				"    response = s3_client.get_object(Bucket=bucket, Key=key)\n",
				"    status = response.get(\"ResponseMetadata\", {}).get(\"HTTPStatusCode\")\n",
				"\n",
				"    if status == 200:\n",
				"        # Successful S3 get_object response.\n",
				"        test_df = pd.read_csv(response.get(\"Body\"), sep='~', dtype=str)\n",
				"        return test_df\n",
				"    else: \n",
				"        print(\"Could not get the object response...\")\n",
				"        return None\n",
				"\n",
				"\n",
				"def create_lev_cols_and_find_the_best_model(test_df_with_nans, sorted_fields_to_check):\n",
				"    \"\"\" Create a column called 'best_model' which tells which model was best per row, based on the lowest score model, (the lowest, the better). \"\"\"\n",
				"\n",
				"    columns_to_select = [col for col in sorted_fields_to_check if col in test_df_with_nans.columns]  # Showing only required fields\n",
				"    test_df_with_nans = test_df_with_nans[columns_to_select]\n",
				"    print(\"df with selected columns:\")\n",
				"    display(test_df_with_nans)\n",
				"\n",
				"    # Cleaning NaN fields in the df\n",
				"    df = test_df_with_nans.replace(np.nan, '-', regex=True) # As all the CSV was read in string type we don't need the \".astype(str)\" at the end of this line\n",
				"    print(\"df with nans replaced:\")\n",
				"    display(df)\n",
				"\n",
				"    # Loop through each pair and calculate distance\n",
				"    for original_model_col, comparison_model_col, new_col in column_pairs:\n",
				"        df[new_col] = df.apply(lambda x: distance(x[original_model_col], x[comparison_model_col]), axis=1)  # \"levenshtein\" for Cloud usage\n",
				"    \n",
				"    print(\"df with levenshtein cols created:\")\n",
				"    display(df)\n",
				"\n",
				"    cols_kv = [col for col in df.columns if col.startswith('lev_') and col.endswith('_kv')]\n",
				"    cols_lb = [col for col in df.columns if col.startswith('lev_') and col.endswith('_lb')]\n",
				"\n",
				"    print(f\"cols for kv model: {cols_kv}\")\n",
				"    print(f\"cols for kv model: {cols_lb}\\n\")\n",
				"\n",
				"    df['sum_kv'] = df[cols_kv].sum(axis=1, numeric_only=True)\n",
				"    df['sum_lb'] = df[cols_lb].sum(axis=1, numeric_only=True)\n",
				"\n",
				"    df['best_model'] = np.where(df['sum_kv'] < df['sum_lb'], 'KV model', np.where(df['sum_kv'] > df['sum_lb'], 'LB model', 'TIE'))\n",
				"    \n",
				"    print(\"df with 'best_model' col:\")\n",
				"    display(df)\n",
				"\n",
				"    print(f\"best model summary:\")\n",
				"    model_counts = df['best_model'].value_counts()\n",
				"    model_counts_df = pd.DataFrame(model_counts)\n",
				"    model_counts_df.reset_index(inplace=True)\n",
				"    model_counts_df.columns = ['Model', 'Count']  # Rename columns for clarity\n",
				"\n",
				"    display(model_counts_df)\n",
				"\n",
				"\n",
				"    return df\n",
				"\n",
				"\n",
				"# Pairs of columns to calculate Levenshtein distance between: \n",
				"# (Original column, Model to compare, New column name of lev result)\n",
				"column_pairs = [\n",
				"    (\"Name\", \"name_kv\", \"lev_Name_kv\"),\n",
				"    (\"Name\", \"name_lb\", \"lev_Name_lb\"),\n",
				"\n",
				"    (\"Account #\", \"account #_kv\", \"lev_Account #_kv\"),\n",
				"    (\"Account #\", \"account #_lb\", \"lev_Account #_lb\"),\n",
				"\n",
				"    (\"FirstName\", \"firstname_kv\", \"lev_FirstName_kv\"),\n",
				"    (\"FirstName\", \"firstname_lb\", \"lev_FirstName_lb\"),\n",
				"\n",
				"    (\"LastName\", \"lastname_kv\", \"lev_LastName_kv\"),\n",
				"    (\"LastName\", \"lastname_lb\", \"lev_LastName_lb\"),\n",
				"\n",
				"    (\"PrevLastName\", \"prevlastname_kv\", \"lev_PrevLastName_kv\"),\n",
				"    (\"PrevLastName\", \"prevlastname_lb\", \"lev_PrevLastName_lb\"),\n",
				"\n",
				"    (\"DOB\", \"dob_kv\", \"lev_DOB_kv\"),\n",
				"    (\"DOB\", \"dob_lb\", \"lev_DOB_lb\"),\n",
				"\n",
				"    (\"Phone1\", \"phone1_kv\", \"lev_Phone1_kv\"),\n",
				"    (\"Phone1\", \"phone1_lb\", \"lev_Phone1_lb\"),\n",
				"\n",
				"    (\"Customer ID #\", \"customer id #_kv\", \"lev_Customer ID #_kv\"),\n",
				"    (\"Customer ID #\", \"customer id #_lb\", \"lev_Customer ID #_lb\")\n",
				"]\n",
				"\n",
				"bucket = \"test-csp-s3-etl-processing\"\n",
				"\n",
				"unique_fields = list(set(element for tup in column_pairs for element in tup))\n",
				"sorted_fields_to_check = sorted(unique_fields, key=str.lower)\n",
				"print(sorted_fields_to_check)"
			]
		},
		{
			"cell_type": "markdown",
			"metadata": {},
			"source": [
				"# Levenshtein on one single file example"
			]
		},
		{
			"cell_type": "code",
			"execution_count": null,
			"metadata": {},
			"outputs": [],
			"source": [
				"key = \"ocr/processed/PPH950000/nviPPH950000input20240816124042702276_ocr_kvtesting.csv\"\n",
				"test_csv_path = f\"s3://{bucket}/{key}\""
			]
		},
		{
			"cell_type": "code",
			"execution_count": null,
			"metadata": {
				"tags": [],
				"trusted": true
			},
			"outputs": [],
			"source": [
				"s3_client = initialize_boto()\n",
				"test_df_with_nans = get_object_from_boto(s3_client, bucket, key)"
			]
		},
		{
			"cell_type": "code",
			"execution_count": null,
			"metadata": {},
			"outputs": [],
			"source": [
				"csv_cols = set(test_df_with_nans.columns)\n",
				"possible_cols_to_include = csv_cols - set(sorted_fields_to_check)\n",
				"possible_cols_to_include"
			]
		},
		{
			"cell_type": "markdown",
			"metadata": {},
			"source": [
				"## Levenshtein call"
			]
		},
		{
			"cell_type": "code",
			"execution_count": null,
			"metadata": {},
			"outputs": [],
			"source": [
				"fields_in_df = sorted_fields_to_check + ['s3_SourcePath', 'RekogResult']\n",
				"result_df = create_lev_cols_and_find_the_best_model(test_df_with_nans, fields_in_df)"
			]
		},
		{
			"cell_type": "markdown",
			"metadata": {},
			"source": [
				"# Levenshtein on multiple files example"
			]
		},
		{
			"cell_type": "code",
			"execution_count": null,
			"metadata": {
				"tags": [],
				"trusted": true
			},
			"outputs": [],
			"source": [
				"result_csvs = s3_client.list_objects(Bucket=bucket, Prefix=\"ocr/processed/PPH950000/\")\n",
				"\n",
				"# result_csvs = result_csvs[\"Contents\"][0][\"Key\"]\n",
				"file_names = [obj_dict[\"Key\"] for obj_dict in result_csvs[\"Contents\"]]  # Getting the file names in path\n",
				"print(file_names)\n",
				"kv_testing_file_names = [file_name for file_name in file_names if \"_kvtesting\" in file_name]  # Filtering only for testing csvs\n",
				"print(kv_testing_file_names)"
			]
		},
		{
			"cell_type": "code",
			"execution_count": null,
			"metadata": {
				"tags": [],
				"trusted": true
			},
			"outputs": [],
			"source": [
				"len(kv_testing_file_names)"
			]
		},
		{
			"cell_type": "code",
			"execution_count": null,
			"metadata": {
				"tags": [],
				"trusted": true
			},
			"outputs": [],
			"source": [
				"appended_data = pd.DataFrame()\n",
				"\n",
				"for file_name in kv_testing_file_names:\n",
				"    test_data = get_object_from_boto(s3_client, bucket, file_name)\n",
				"    appended_data = pd.concat([appended_data, test_data], axis = 0)"
			]
		},
		{
			"cell_type": "markdown",
			"metadata": {},
			"source": [
				"## Levenshtein call"
			]
		},
		{
			"cell_type": "code",
			"execution_count": null,
			"metadata": {},
			"outputs": [],
			"source": [
				"fields_in_df_multiple = sorted_fields_to_check + ['s3_SourcePath', 'RekogResult']\n",
				"result_df_multiple_files = create_lev_cols_and_find_the_best_model(appended_data, fields_in_df_multiple)"
			]
		},
		{
			"cell_type": "markdown",
			"metadata": {},
			"source": [
				"## Additional analysis"
			]
		},
		{
			"cell_type": "code",
			"execution_count": null,
			"metadata": {},
			"outputs": [],
			"source": [
				"filtered_df = result_df_multiple_files[result_df_multiple_files['best_model'] == 'KV model']\n",
				"filtered_df"
			]
		},
		{
			"cell_type": "code",
			"execution_count": null,
			"metadata": {},
			"outputs": [],
			"source": [
				"result_df_multiple_files.tail(10)"
			]
		}
	],
	"metadata": {
		"kernelspec": {
			"display_name": "Python 3",
			"language": "python",
			"name": "python3"
		},
		"language_info": {
			"codemirror_mode": {
				"name": "ipython",
				"version": 3
			},
			"file_extension": ".py",
			"mimetype": "text/x-python",
			"name": "python",
			"nbconvert_exporter": "python",
			"pygments_lexer": "ipython3",
			"version": "3.12.3"
		}
	},
	"nbformat": 4,
	"nbformat_minor": 4
}
